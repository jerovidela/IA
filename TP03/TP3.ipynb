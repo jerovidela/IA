{
 "cells": [
  {
   "cell_type": "markdown",
   "metadata": {
    "id": "KoNul0chUR90"
   },
   "source": [
    "# Temas Tratados en el Trabajo Práctico 3\n",
    "\n",
    "* Estrategias de búsqueda local.\n",
    "\n",
    "* Algoritmos Evolutivos.\n",
    "\n",
    "* Problemas de Satisfacción de Restricciones.\n",
    "\n",
    "# Ejercicios Teóricos\n",
    "\n",
    "1. ¿Qué mecanismo de detención presenta el algoritmo de Ascensión de Colinas? Describa el problema que puede presentar este mecanismo y cómo se llaman las áreas donde ocurren estos problemas."
   ]
  },
  {
   "cell_type": "markdown",
   "metadata": {},
   "source": [
    "El algoritmo de ascenso de colinas se detiene generalmente en un máximo local o en una meseta, no en el óptimo global. En cada paso selecciona el mejor vecino según la función objetivo, avanzando hacia soluciones con mejor valor. Su principal limitación es que puede quedar atrapado en un máximo local (que no es la mejor solución global) o estancado en zonas de mesetas o terrazas, donde los vecinos tienen el mismo valor y no hay una dirección clara de mejora."
   ]
  },
  {
   "cell_type": "markdown",
   "metadata": {},
   "source": [
    "\n",
    "2. Describa las distintas heurísticas que se emplean en un problema de Satisfacción de Restricciones."
   ]
  },
  {
   "cell_type": "markdown",
   "metadata": {},
   "source": [
    "1. Ordenación de variables\n",
    "\n",
    "MRV (Minimum Remaining Values / elección por dominio más pequeño)\n",
    "Elegir la variable que tiene menos valores legales en su dominio.\n",
    "Por qué ayuda: detecta pronto variables “más restringidas” y evita explorar ramas que van a fallar tarde.\n",
    "Ejemplo: en 8-reinas, elegir la fila que sólo tiene 2 columnas posibles en lugar de una con 6.\n",
    "\n",
    "Degree heuristic (heurística del grado)\n",
    "Como desempate del MRV, elegir la variable que está involucrada en más restricciones con variables no asignadas.\n",
    "Por qué ayuda: reduce el impacto en muchas otras variables (maximiza la propagación).\n",
    "\n",
    "2. Ordenación de valores\n",
    "\n",
    "LCV (Least Constraining Value / valor menos restrictivo)\n",
    "Para la variable elegida, probar primero los valores que dejan más opciones a las variables no asignadas.\n",
    "Por qué ayuda: facilita encontrar continuaciones válidas, reduce retrocesos.\n",
    "Ejemplo: al colocar una reina en una columna, elegir la columna que elimina menos columnas válidas para las demás filas.\n",
    "\n",
    "3. Comprobación e inferencia durante la búsqueda\n",
    "\n",
    "Forward Checking (comprobación hacia adelante)\n",
    "Cuando asignás una variable, se eliminan de inmediato de los dominios de las variables vecinas los valores que violan la restricción. Si algún dominio queda vacío, hay retroceso inmediato.\n",
    "Beneficio: detecta fallos más temprano que la búsqueda pura.\n",
    "\n",
    "Arc-consistency (p. ej. AC-3)\n",
    "Algoritmo que mantiene consistencia binaria entre pares de variables (elimina valores que no tienen soporte en vecinos).\n",
    "Beneficio: más fuerte que forward-checking; reduce dominios antes y durante la búsqueda.\n",
    "\n",
    "MAC (Maintaining Arc Consistency)\n",
    "Mantener AC dinámicamente después de cada asignación (combina backtracking con AC). Es costoso por paso, pero suele ahorrar muchísimos retrocesos.\n",
    "\n",
    "Propagación por restricciones globales\n",
    "Usar propagadores eficientes para restricciones especiales (p. ej. AllDifferent, cumulative para scheduling). Estos propagadores quitan muchos valores inválidos rápidamente.\n",
    "\n",
    "4. Mejoras en el backtracking\n",
    "\n",
    "Backjumping / Conflict-directed backjumping\n",
    "En vez de retroceder sólo a la última variable, saltar directamente a la variable que causó el conflicto.\n",
    "Beneficio: evita explorar ramas inútiles.\n",
    "\n",
    "Learning / Nogoods\n",
    "Guardar combinaciones parciales que ya fallaron (nogoods) para no volver a probarlas.\n",
    "\n",
    "5. Heurísticas y estrategias para búsqueda local\n",
    "\n",
    "Min-conflicts\n",
    "Para grandes CSPs, iniciar con una asignación completa (posible en conflicto) y en cada paso cambiar la variable que reduce más los conflictos. Muy eficaz en problemas como 8-reinas o grandes grafos de coloreo.\n",
    "\n",
    "Random restarts / random walk\n",
    "Reiniciar la búsqueda local varias veces o permitir movimientos aleatorios para escapar de óptimos locales.\n",
    "\n",
    "6. Preprocesamiento y descomposición\n",
    "\n",
    "Descomponer el grafo de restricciones en componentes conectados y resolver cada componente por separado.\n",
    "\n",
    "Ordenar/renombrar variables con algún criterio global (p. ej. heurística estática: ordenar por grado antes de comenzar) para acelerar la búsqueda."
   ]
  },
  {
   "cell_type": "markdown",
   "metadata": {},
   "source": [
    "3. Se desea colorear el rompecabezas mostrado en la imagen con 7 colores distintos de manera que ninguna pieza tenga el mismo color que sus vecinas. Realice en una tabla el proceso de una búsqueda con Comprobación hacia Adelante empleando una heurística del Valor más Restringido."
   ]
  },
  {
   "cell_type": "markdown",
   "metadata": {},
   "source": [
    "![image.png](image.png)"
   ]
  },
  {
   "cell_type": "markdown",
   "metadata": {},
   "source": [
    "Primero vamos a divir el pato en numeros para poder identificar las partes. Luego haremos una lista de los vecinos de cada cuadro"
   ]
  },
  {
   "cell_type": "markdown",
   "metadata": {},
   "source": [
    "![image.png](pato_numerado.jpg)"
   ]
  },
  {
   "cell_type": "code",
   "execution_count": null,
   "metadata": {},
   "outputs": [],
   "source": [
    "graph = {\n",
    "    \"1\": [\"2\"],\n",
    "    \"2\": [\"1\", \"3\", \"8\"],\n",
    "    \"3\": [\"2\", \"6\", \"8\"],\n",
    "    \"4\": [\"5\", \"6\"],\n",
    "    \"5\": [\"4\", \"7\", \"6\"],\n",
    "    \"6\": [\"3\",\"4\", \"5\", \"7\", \"8\", \"9\", \"10\", \"11\",],\n",
    "    \"7\": [\"5\", \"6\", \"11\"],\n",
    "    \"8\": [\"2\", \"3\", \"6\", \"9\", \"12\"],\n",
    "    \"9\": [\"6\", \"8\", \"10\", \"12\", \"13\"],\n",
    "    \"10\": [\"6\", \"9\", \"11\", \"13\", \"14\", \"15\"],\n",
    "    \"11\": [\"6\", \"7\", \"10\", \"15\"],\n",
    "    \"12\": [\"8\", \"9\", \"13\"],\n",
    "    \"13\": [\"9\", \"10\", \"12\", \"14\"],\n",
    "    \"14\": [\"10\", \"13\", \"16\", \"17\"],\n",
    "    \"15\": [\"10\", \"11\", \"17\"],\n",
    "    \"16\": [\"14\", \"17\"],\n",
    "    \"17\": [\"14\", \"15\", \"16\"]\n",
    "}\n",
    "colors = {\"Rojo\", \"Azul\", \"Verde\", \"Amarillo\", \"Naranja\", \"Violeta\", \"Marrón\"}"
   ]
  },
  {
   "cell_type": "markdown",
   "metadata": {},
   "source": [
    "Estado inicial\n",
    "\n",
    "Todas las variables tienen dominio inicial = {Rojo, Azul, Verde, Amarillo, Naranja, Violeta, Marrón} (7 valores).\n",
    "\n",
    "Heurística MRV: en cada paso elegimos la variable con menor número de valores legales.\n",
    "\n",
    "\n",
    "| Paso | Nodo elegido (MRV) | Dominio antes | Color asignado | Vecinos afectados | Cambios en dominios |\n",
    "|------|--------------------|---------------|----------------|-------------------|----------------------|\n",
    "| 1    | 1                  | {7}           | Rojo           | 2                 | Nodo 2 pierde Rojo   |\n",
    "| 2    | 2                  | {6}           | Azul           | 1,3,8             | Nodo 3 pierde Azul; Nodo 8 pierde Azul |\n",
    "| 3    | 3                  | {6}           | Verde          | 2,6,8             | Nodo 6 pierde Verde; Nodo 8 pierde Verde |\n",
    "| 4    | 4                  | {7}           | Amarillo       | 5,6               | Nodo 5 pierde Amarillo; Nodo 6 pierde Amarillo |\n",
    "| 5    | 5                  | {6}           | Naranja        | 4,6,7             | Nodo 6 pierde Naranja; Nodo 7 pierde Naranja |\n",
    "| 6    | 6                  | {3}           | Violeta        | 3,4,5,7,8,9,10,11 | Todos pierden Violeta |\n",
    "| 7    | 7                  | {5}           | Marrón         | 5,6,11            | Nodo 11 pierde Marrón |\n",
    "| 8    | 8                  | {4}           | Rojo           | 2,3,6,9,12        | Nodo 9 pierde Rojo; Nodo 12 pierde Rojo |\n",
    "| 9    | 9                  | {5}           | Azul           | 6,8,10,12,13      | Nodo 10 pierde Azul; Nodo 12 pierde Azul; Nodo 13 pierde Azul |\n",
    "| 10   | 10                 | {5}           | Verde          | 6,9,11,13,14,15   | Nodos 11,13,14,15 pierden Verde |\n",
    "| 11   | 11                 | {5}           | Amarillo       | 6,7,10,15         | Nodo 15 pierde Amarillo |\n",
    "| 12   | 12                 | {4}           | Naranja        | 8,9,13            | Nodo 13 pierde Naranja |\n",
    "| 13   | 13                 | {3}           | Violeta        | 9,10,12,14        | Nodo 14 pierde Violeta |\n",
    "| 14   | 14                 | {3}           | Marrón         | 10,13,16,17       | Nodos 16 y 17 pierden Marrón |\n",
    "| 15   | 15                 | {4}           | Rojo           | 10,11,17          | Nodo 17 pierde Rojo |\n",
    "| 16   | 16                 | {3}           | Azul           | 14,17             | Nodo 17 pierde Azul |\n",
    "| 17   | 17                 | {2}           | Verde          | 14,15,16          | Ya consistente       |\n"
   ]
  },
  {
   "cell_type": "markdown",
   "metadata": {},
   "source": [
    "# Ejercicios de Implementación\n",
    "\n",
    "4. Encuentre el máximo de la función $f(x) = \\frac{\\sin(x)}{x + 0.1}$ en $x \\in [-10; -6]$ con un error menor a $0.1$ utilizando el algoritmo _hill climbing_."
   ]
  },
  {
   "cell_type": "code",
   "execution_count": null,
   "metadata": {},
   "outputs": [
    {
     "name": "stdout",
     "output_type": "stream",
     "text": [
      "Mejor encontrado: x = -7.749310926575634 f(x) = 0.13001524328154404\n"
     ]
    }
   ],
   "source": [
    "import math\n",
    "import random\n",
    "\n",
    "def f(x):\n",
    "    return math.sin(x)/(x+0.1)\n",
    "\n",
    "def hill_climb(x0, step=0.5, max_iter=20000):\n",
    "    x = x0\n",
    "    fx = f(x)\n",
    "    for _ in range(max_iter):\n",
    "        improved = False\n",
    "        for dx in (step, -step):\n",
    "            xn = x + dx\n",
    "            if xn < -10 or xn > -6:\n",
    "                continue\n",
    "            fn = f(xn)\n",
    "            if fn > fx + 1e-3:\n",
    "                x, fx = xn, fn\n",
    "                improved = True\n",
    "                break\n",
    "        if not improved:\n",
    "            step /= 2.0\n",
    "            if step < 1e-2:\n",
    "                break\n",
    "    return x, fx\n",
    "\n",
    "start = random.uniform(-10, -6)\n",
    "x, fx = hill_climb(start, step=0.5)\n",
    "print(\"Mejor encontrado: x =\", x, \"f(x) =\", fx)"
   ]
  },
  {
   "cell_type": "markdown",
   "metadata": {},
   "source": [
    "5. Diseñe e implemente un algoritmo de Recocido Simulado para que juegue contra usted al Ta-te-ti. Varíe los valores de temperatura inicial entre partidas, ¿qué diferencia observa cuando la temperatura es más alta con respecto a cuando la temperatura es más baja?"
   ]
  },
  {
   "cell_type": "code",
   "execution_count": null,
   "metadata": {},
   "outputs": [],
   "source": []
  },
  {
   "cell_type": "markdown",
   "metadata": {},
   "source": [
    "\n",
    "6. Diseñe e implemente un algoritmo genético para cargar una grúa con $n=10\\;cajas$ que puede soportar un peso máximo $C=1000\\;kg$. Cada caja *j* tiene asociado un precio $p_j$ y un peso $w_j$ como se indica en la tabla de abajo, de manera que el algoritmo debe ser capaz de maximizar el precio sin superar el límite de carga.\n",
    "\n",
    "<table><tr><td>Elemento ($j$)</td><td>1</td><td>2</td><td>3</td><td>4</td><td>5</td><td>6</td><td>7</td><td>8</td><td>9</td><td>10</td></tr>\n",
    "\n",
    "<tr><td>Precio ($p_j$)</td><td>100</td><td>50</td><td>115</td><td>25</td><td>200</td><td>30</td><td>40</td><td>100</td><td>100</td><td>100</td></tr>\n",
    "\n",
    "<tr><td>Peso ($w_j$)</td><td>300</td><td>200</td><td>450</td><td>145</td><td>664</td><td>90</td><td>150</td><td>355</td><td>401</td><td>395</td></tr></table><br>\n",
    "\n",
    "        6.1 En primer lugar, es necesario representar qué cajas estarán cargadas en la grúa y cuáles no. Esta representación corresponde a un Individuo con el que trabajará el algoritmo.\n",
    "\n",
    "        6.2 A continuación, genere una Población que contenga un número $N$ de individuos (se recomienda elegir un número par). Es necesario crear un control que verifique que ninguno de los individuos supere el peso límite.\n",
    "\n",
    "        6.3 Cree ahora una función que permita evaluar la Idoneidad de cada individuo y seleccione $N/2$ parejas usando el método de la ruleta.\n",
    "\n",
    "        6.4 Por último, Cruce las parejas elegidas, aplique un mecanismo de Mutación y verifique que los individuos de la nueva población no superen el límite de peso.\n",
    "\n",
    "        6.5 Realice este proceso iterativamente hasta que se cumpla el mecanismo de detención de su elección y muestre el mejor individuo obtenido junto con el peso y el precio que alcanza."
   ]
  },
  {
   "cell_type": "code",
   "execution_count": null,
   "metadata": {},
   "outputs": [],
   "source": []
  },
  {
   "cell_type": "markdown",
   "metadata": {},
   "source": [
    "# Bibliografía\n",
    "\n",
    "[Russell, S. & Norvig, P. (2004) _Inteligencia Artificial: Un Enfoque Moderno_. Pearson Educación S.A. (2a Ed.) Madrid, España](https://www.academia.edu/8241613/Inteligencia_Aritificial_Un_Enfoque_Moderno_2da_Edici%C3%B3n_Stuart_J_Russell_y_Peter_Norvig)\n",
    "\n",
    "[Poole, D. & Mackworth, A. (2023) _Artificial Intelligence: Foundations of Computational Agents_. Cambridge University Press (3a Ed.) Vancouver, Canada](https://artint.info/3e/html/ArtInt3e.html)"
   ]
  }
 ],
 "metadata": {
  "colab": {
   "authorship_tag": "ABX9TyP+gmm4FpgIiLEWiMEHovI/",
   "provenance": [
    {
     "file_id": "1jwMQSunMvftmLz-Cdvqvhekv-lD32cpW",
     "timestamp": 1673817668321
    }
   ]
  },
  "kernelspec": {
   "display_name": "Python 3",
   "language": "python",
   "name": "python3"
  },
  "language_info": {
   "codemirror_mode": {
    "name": "ipython",
    "version": 3
   },
   "file_extension": ".py",
   "mimetype": "text/x-python",
   "name": "python",
   "nbconvert_exporter": "python",
   "pygments_lexer": "ipython3",
   "version": "3.12.3"
  }
 },
 "nbformat": 4,
 "nbformat_minor": 0
}
